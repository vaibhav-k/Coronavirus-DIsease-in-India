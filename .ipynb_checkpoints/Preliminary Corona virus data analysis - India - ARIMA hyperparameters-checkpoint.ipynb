{
 "cells": [
  {
   "cell_type": "code",
   "execution_count": 1,
   "metadata": {},
   "outputs": [],
   "source": [
    "# importing the necessary libraries\n",
    "import pandas as pd\n",
    "import matplotlib.pyplot as plt\n",
    "%matplotlib inline\n",
    "\n",
    "import warnings\n",
    "warnings.filterwarnings('ignore')"
   ]
  },
  {
   "cell_type": "code",
   "execution_count": 2,
   "metadata": {},
   "outputs": [],
   "source": [
    "# reading in the data file\n",
    "corona = pd.read_csv(\"./Data/covid19-in-india/covid_19_india.csv\", parse_dates = [1], dayfirst = True)\n",
    "\n",
    "# dropping the columns which don't add to the analysis\n",
    "corona = corona.drop([\"Sno\", \"Time\", \"State/UnionTerritory\"], axis = 1)\n",
    "\n",
    "# converting \"Date\" into Datetime format\n",
    "corona[\"Date\"] = pd.to_datetime(corona[\"Date\"])"
   ]
  },
  {
   "cell_type": "code",
   "execution_count": 3,
   "metadata": {},
   "outputs": [],
   "source": [
    "# grouping the cases by date for easier analysis\n",
    "datewise = corona.groupby([\"Date\"]).agg({\"ConfirmedIndianNational\": 'sum', \"ConfirmedForeignNational\": 'sum', \"Cured\": \"sum\", \"Deaths\":'sum'})\n",
    "\n",
    "# making the \"Date\" column part of the database\n",
    "datewise[\"Date\"] = datewise.index\n",
    "\n",
    "# making the index column\n",
    "ind = []\n",
    "for i in range(len(datewise)):\n",
    "    ind.append(i)\n",
    "datewise[\"Index\"] = ind\n",
    "datewise.set_index(\"Index\", inplace = True)\n",
    "\n",
    "# resetting DataFrame with columns in desired order\n",
    "datewise = datewise[[\"Date\", \"ConfirmedIndianNational\", \"ConfirmedForeignNational\", \"Cured\", \"Deaths\"]]"
   ]
  },
  {
   "cell_type": "code",
   "execution_count": 4,
   "metadata": {},
   "outputs": [],
   "source": [
    "# adding a new column to the database which counts the days since the first case was reported\n",
    "datewise[\"Days Since\"] = datewise[\"Date\"] - datewise[\"Date\"][0]\n",
    "datewise[\"Days Since\"] = datewise[\"Days Since\"].dt.days\n",
    "\n",
    "# removing the \"Date\" column\n",
    "datewise = datewise.drop([\"Date\"], axis = 1)\n",
    "\n",
    "# removing the rows with entries that are not integers\n",
    "to_remove = []\n",
    "for idx, i in datewise.iterrows():\n",
    "    try:\n",
    "        k = int(i[\"ConfirmedIndianNational\"])\n",
    "    except:\n",
    "        to_remove.append(idx)\n",
    "datewise = datewise.drop(to_remove)"
   ]
  },
  {
   "cell_type": "markdown",
   "metadata": {},
   "source": [
    "# Hyper-parameter search"
   ]
  },
  {
   "cell_type": "code",
   "execution_count": 5,
   "metadata": {},
   "outputs": [],
   "source": [
    "# importing the requisite libraries and making the train, validation data and an emoty list to store the model's MSE\n",
    "from statsmodels.tsa.arima_model import ARIMA\n",
    "from sklearn.metrics import mean_squared_error\n",
    "import numpy as np\n",
    "\n",
    "train_ml = datewise.iloc[: int(datewise.shape[0] * 0.85)]\n",
    "valid_ml = datewise.iloc[int(datewise.shape[0] * 0.85):]\n",
    "mse = []"
   ]
  },
  {
   "cell_type": "code",
   "execution_count": 6,
   "metadata": {},
   "outputs": [],
   "source": [
    "def evaluate(p, d, q):\n",
    "    # making and training the model\n",
    "    log_series = np.log(train_ml[\"ConfirmedIndianNational\"])\n",
    "    model_arima = ARIMA(log_series, (p, d, q))\n",
    "    model_arima_fit = model_arima.fit()\n",
    "    # making the predictions\n",
    "    prediction_arima = model_arima_fit.forecast(len(valid_ml))[0]\n",
    "    # printing the root mean square error\n",
    "    mse.append(np.sqrt(mean_squared_error(list(valid_ml[\"ConfirmedIndianNational\"]), np.exp(prediction_arima))))"
   ]
  },
  {
   "cell_type": "code",
   "execution_count": 7,
   "metadata": {
    "scrolled": true
   },
   "outputs": [
    {
     "name": "stdout",
     "output_type": "stream",
     "text": [
      "Could not find the MSE for:  0 0 2\n"
     ]
    },
    {
     "name": "stderr",
     "output_type": "stream",
     "text": [
      "/usr/local/lib/python3.6/dist-packages/statsmodels/base/model.py:492: HessianInversionWarning: Inverting hessian failed, no bse or cov_params available\n",
      "  'available', HessianInversionWarning)\n"
     ]
    },
    {
     "name": "stdout",
     "output_type": "stream",
     "text": [
      "Could not find the MSE for:  1 0 1\n",
      "Could not find the MSE for:  1 0 2\n",
      "Could not find the MSE for:  2 0 1\n",
      "Could not find the MSE for:  2 0 2\n",
      "Could not find the MSE for:  2 2 2\n",
      "Could not find the MSE for:  4 0 0\n",
      "Could not find the MSE for:  4 0 1\n",
      "Could not find the MSE for:  4 0 2\n"
     ]
    },
    {
     "name": "stderr",
     "output_type": "stream",
     "text": [
      "/usr/local/lib/python3.6/dist-packages/statsmodels/base/model.py:492: HessianInversionWarning: Inverting hessian failed, no bse or cov_params available\n",
      "  'available', HessianInversionWarning)\n",
      "/usr/local/lib/python3.6/dist-packages/statsmodels/base/model.py:512: ConvergenceWarning: Maximum Likelihood optimization failed to converge. Check mle_retvals\n",
      "  \"Check mle_retvals\", ConvergenceWarning)\n"
     ]
    },
    {
     "name": "stdout",
     "output_type": "stream",
     "text": [
      "Could not find the MSE for:  6 0 1\n",
      "Could not find the MSE for:  6 0 2\n"
     ]
    },
    {
     "name": "stderr",
     "output_type": "stream",
     "text": [
      "/usr/local/lib/python3.6/dist-packages/statsmodels/base/model.py:492: HessianInversionWarning: Inverting hessian failed, no bse or cov_params available\n",
      "  'available', HessianInversionWarning)\n",
      "/usr/local/lib/python3.6/dist-packages/statsmodels/base/model.py:492: HessianInversionWarning: Inverting hessian failed, no bse or cov_params available\n",
      "  'available', HessianInversionWarning)\n",
      "/usr/local/lib/python3.6/dist-packages/statsmodels/base/model.py:512: ConvergenceWarning: Maximum Likelihood optimization failed to converge. Check mle_retvals\n",
      "  \"Check mle_retvals\", ConvergenceWarning)\n",
      "/usr/local/lib/python3.6/dist-packages/statsmodels/base/model.py:492: HessianInversionWarning: Inverting hessian failed, no bse or cov_params available\n",
      "  'available', HessianInversionWarning)\n",
      "/usr/local/lib/python3.6/dist-packages/statsmodels/base/model.py:512: ConvergenceWarning: Maximum Likelihood optimization failed to converge. Check mle_retvals\n",
      "  \"Check mle_retvals\", ConvergenceWarning)\n"
     ]
    },
    {
     "name": "stdout",
     "output_type": "stream",
     "text": [
      "Could not find the MSE for:  8 0 2\n"
     ]
    },
    {
     "name": "stderr",
     "output_type": "stream",
     "text": [
      "/usr/local/lib/python3.6/dist-packages/statsmodels/base/model.py:492: HessianInversionWarning: Inverting hessian failed, no bse or cov_params available\n",
      "  'available', HessianInversionWarning)\n",
      "/usr/local/lib/python3.6/dist-packages/statsmodels/base/model.py:512: ConvergenceWarning: Maximum Likelihood optimization failed to converge. Check mle_retvals\n",
      "  \"Check mle_retvals\", ConvergenceWarning)\n",
      "/usr/local/lib/python3.6/dist-packages/statsmodels/base/model.py:492: HessianInversionWarning: Inverting hessian failed, no bse or cov_params available\n",
      "  'available', HessianInversionWarning)\n",
      "/usr/local/lib/python3.6/dist-packages/statsmodels/base/model.py:492: HessianInversionWarning: Inverting hessian failed, no bse or cov_params available\n",
      "  'available', HessianInversionWarning)\n",
      "/usr/local/lib/python3.6/dist-packages/statsmodels/base/model.py:512: ConvergenceWarning: Maximum Likelihood optimization failed to converge. Check mle_retvals\n",
      "  \"Check mle_retvals\", ConvergenceWarning)\n",
      "/usr/local/lib/python3.6/dist-packages/statsmodels/base/model.py:492: HessianInversionWarning: Inverting hessian failed, no bse or cov_params available\n",
      "  'available', HessianInversionWarning)\n",
      "/usr/local/lib/python3.6/dist-packages/statsmodels/base/model.py:512: ConvergenceWarning: Maximum Likelihood optimization failed to converge. Check mle_retvals\n",
      "  \"Check mle_retvals\", ConvergenceWarning)\n",
      "/usr/local/lib/python3.6/dist-packages/statsmodels/base/model.py:492: HessianInversionWarning: Inverting hessian failed, no bse or cov_params available\n",
      "  'available', HessianInversionWarning)\n"
     ]
    }
   ],
   "source": [
    "# evaluate parameters\n",
    "p_values = [0, 1, 2, 4, 6, 8, 10]\n",
    "d_values = range(0, 3)\n",
    "q_values = range(0, 3)\n",
    "msg = \"Could not find the MSE for: \"\n",
    "arr = []\n",
    "for i in p_values:\n",
    "    for j in d_values:\n",
    "        for k in q_values:\n",
    "            arr.append(str(i) + \"\\t\" + str(j) + \"\\t\" + str(k))\n",
    "            try:\n",
    "                evaluate(i, j, k)\n",
    "            except:\n",
    "                print(msg, str(i), str(j), str(k))\n",
    "                \n",
    "least_mse = min(mse)"
   ]
  },
  {
   "cell_type": "code",
   "execution_count": 8,
   "metadata": {},
   "outputs": [
    {
     "name": "stdout",
     "output_type": "stream",
     "text": [
      "2\t0\t1\n"
     ]
    }
   ],
   "source": [
    "for idx, i in enumerate(mse):\n",
    "    if i == least_mse:\n",
    "        print(arr[idx])"
   ]
  }
 ],
 "metadata": {
  "kernelspec": {
   "display_name": "Python 3",
   "language": "python",
   "name": "python3"
  },
  "language_info": {
   "codemirror_mode": {
    "name": "ipython",
    "version": 3
   },
   "file_extension": ".py",
   "mimetype": "text/x-python",
   "name": "python",
   "nbconvert_exporter": "python",
   "pygments_lexer": "ipython3",
   "version": "3.6.9"
  }
 },
 "nbformat": 4,
 "nbformat_minor": 2
}

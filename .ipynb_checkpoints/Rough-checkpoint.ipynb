{
 "cells": [
  {
   "cell_type": "code",
   "execution_count": null,
   "metadata": {},
   "outputs": [],
   "source": [
    "from sklearn.svm import SVR\n",
    "\n",
    "#Intializing SVR Model and with hyperparameters for GridSearchCV\n",
    "svm = SVR(C = 0.001, degree = 8, kernel = 'poly', epsilon = 0.01)"
   ]
  },
  {
   "cell_type": "code",
   "execution_count": null,
   "metadata": {},
   "outputs": [],
   "source": [
    "#Performing GridSearchCV to find the Best Estimator\n",
    "svm.fit(np.array(train_ml[\"Days Since\"]).reshape(-1,1), np.array(train_ml[\"ConfirmedIndianNational\"]).reshape(-1,1))\n",
    "\n",
    "prediction_valid_svm = svm.predict(np.array(valid_ml[\"Days Since\"]).reshape(-1,1))\n",
    "\n",
    "model_scores.append(np.sqrt(mean_squared_error(valid_ml[\"ConfirmedIndianNational\"], prediction_valid_svm)))\n",
    "print(\"Root Mean Square Error for Support Vectore Machine: \", np.sqrt(mean_squared_error(valid_ml[\"ConfirmedIndianNational\"], prediction_valid_svm)))"
   ]
  },
  {
   "cell_type": "code",
   "execution_count": null,
   "metadata": {},
   "outputs": [],
   "source": [
    "plt.figure(figsize = (11,6))\n",
    "prediction_svm = svm.predict(np.array(datewise[\"Days Since\"]).reshape(-1,1))\n",
    "plt.plot(datewise[\"Confirmed\"], label = \"Train Confirmed Cases\", linewidth=3)\n",
    "plt.plot(datewise.index, prediction_svm, linestyle='--', label = \"Best Fit for SVR\", color = 'black')\n",
    "plt.xlabel('Time')\n",
    "plt.ylabel('Confirmed Cases')\n",
    "plt.title(\"Support Vector Machine Regressor Prediction\")\n",
    "plt.xticks(rotation=90)\n",
    "plt.legend()"
   ]
  },
  {
   "cell_type": "code",
   "execution_count": null,
   "metadata": {},
   "outputs": [],
   "source": [
    "new_date = []\n",
    "new_prediction_lr = []\n",
    "new_prediction_svm = []\n",
    "for i in range(1,18):\n",
    "    new_date.append(datewise.index[-1] + timedelta(days = i))\n",
    "    new_prediction_lr.append(lin_reg.predict(np.array(datewise[\"Days Since\"].max() + i).reshape(-1,1))[0][0])\n",
    "    new_prediction_svm.append(svm.predict(np.array(datewise[\"Days Since\"].max() + i).reshape(-1,1))[0])"
   ]
  },
  {
   "cell_type": "code",
   "execution_count": null,
   "metadata": {},
   "outputs": [],
   "source": [
    "model_predictions=pd.DataFrame(zip(new_date,new_prediction_lr, new_prediction_svm), columns = [\"Dates\", \"Linear Regression Prediction\", \"SVM Prediction\"])\n",
    "model_predictions.head()"
   ]
  },
  {
   "cell_type": "code",
   "execution_count": null,
   "metadata": {},
   "outputs": [],
   "source": [
    "\"\"\"# finding the latitudes and longitudes for each district in the dataset\n",
    "from  geopy.geocoders import Nominatim\n",
    "\n",
    "geolocator = Nominatim()\n",
    "lat_lon = []\n",
    "\n",
    "for j in range(len(df_district[0])):\n",
    "    try:\n",
    "        k = df_district[0][j]\n",
    "        loc = geolocator.geocode(k + \",India\")\n",
    "        lat_lon.append((df_district[0][j], loc.latitude, loc.longitude))\n",
    "    except:\n",
    "        print(\"Failed to get latitude and longitude for \" + k)\n",
    "        \n",
    "# clearing the memory\n",
    "del geolocator\"\"\""
   ]
  },
  {
   "cell_type": "code",
   "execution_count": null,
   "metadata": {},
   "outputs": [],
   "source": [
    "\"\"\"from geopy.distance import great_circle\n",
    "\n",
    "distances = []\n",
    "\n",
    "for i in range(len(lat_lon)):\n",
    "    for j in range(len(lat_lon)):\n",
    "        if i != j:\n",
    "            distances.append((lat_lon[i][0], lat_lon[j][0], great_circle((lat_lon[i][1], lat_lon[i][2]), (lat_lon[j][1], lat_lon[j][2])).km))\n",
    "        \n",
    "# clearing the memory\n",
    "del lat_lon\"\"\""
   ]
  }
 ],
 "metadata": {
  "kernelspec": {
   "display_name": "Python 3",
   "language": "python",
   "name": "python3"
  },
  "language_info": {
   "codemirror_mode": {
    "name": "ipython",
    "version": 3
   },
   "file_extension": ".py",
   "mimetype": "text/x-python",
   "name": "python",
   "nbconvert_exporter": "python",
   "pygments_lexer": "ipython3",
   "version": "3.6.9"
  }
 },
 "nbformat": 4,
 "nbformat_minor": 2
}

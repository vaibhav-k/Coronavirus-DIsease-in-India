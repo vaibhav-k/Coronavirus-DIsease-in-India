{
 "cells": [
  {
   "cell_type": "code",
   "execution_count": 1,
   "metadata": {},
   "outputs": [
    {
     "name": "stdout",
     "output_type": "stream",
     "text": [
      "Total number of entries: 9735\n",
      "\n",
      "Index(['SNo', 'ObservationDate', 'Province/State', 'Country/Region',\n",
      "       'Last Update', 'Confirmed', 'Deaths', 'Recovered'],\n",
      "      dtype='object')\n"
     ]
    }
   ],
   "source": [
    "import pandas as pd\n",
    "import numpy as np\n",
    "\n",
    "corona = pd.read_csv(\"covid_19_data.csv\")\n",
    "print(\"Total number of entries: \" + str(len(corona)) + \"\\n\")\n",
    "\n",
    "print(corona.columns)\n",
    "corona[\"Province/State\"].replace('', np.nan, inplace=True)\n",
    "#corona.dropna(subset=[\"Province/State\"], inplace=True)"
   ]
  },
  {
   "cell_type": "code",
   "execution_count": 2,
   "metadata": {},
   "outputs": [
    {
     "name": "stdout",
     "output_type": "stream",
     "text": [
      "There have been a total of 987 cases in India.\n",
      "84 patients have recovered.\n",
      "Sadly, 24 have died.\n"
     ]
    }
   ],
   "source": [
    "cases = 0\n",
    "rec = 0\n",
    "deaths = 0\n",
    "date = []\n",
    "c = []\n",
    "\n",
    "for index, row in corona.iterrows(): \n",
    "    if row[\"Country/Region\"] == \"India\":\n",
    "        cases = row[\"Confirmed\"]\n",
    "        rec = row[\"Recovered\"]\n",
    "        deaths = row[\"Deaths\"]\n",
    "        if row[\"ObservationDate\"] not in date and row[\"Confirmed\"] not in c:\n",
    "            date.append(row[\"ObservationDate\"])\n",
    "        if row[\"Confirmed\"] not in c:\n",
    "            c.append(row[\"Confirmed\"])\n",
    "        \n",
    "print(\"There have been a total of \" + str(int(cases)) + \" cases in India.\")\n",
    "print(str(int(rec)) + \" patients have recovered.\")\n",
    "print(\"Sadly, \" + str(int(deaths)) + \" have died.\")"
   ]
  },
  {
   "cell_type": "code",
   "execution_count": 3,
   "metadata": {},
   "outputs": [
    {
     "data": {
      "image/png": "[encoded data removed]",
      "text/plain": [
       "<Figure size 432x288 with 1 Axes>"
      ]
     },
     "metadata": {
      "needs_background": "light"
     },
     "output_type": "display_data"
    }
   ],
   "source": [
    "import matplotlib.pyplot as plt\n",
    "%matplotlib inline\n",
    "\n",
    "plt.plot(date, c)\n",
    "plt.xticks(date, date, rotation = 'vertical')\n",
    "plt.annotate(str(int(cases)), xy = (date[-1], int(cases)), xytext = (22, 900), arrowprops = dict(facecolor = 'black', shrink = 0),)\n",
    "plt.title(\"India\")\n",
    "plt.show()"
   ]
  }
 ],
 "metadata": {
  "kernelspec": {
   "display_name": "Python 3",
   "language": "python",
   "name": "python3"
  },
  "language_info": {
   "codemirror_mode": {
    "name": "ipython",
    "version": 3
   },
   "file_extension": ".py",
   "mimetype": "text/x-python",
   "name": "python",
   "nbconvert_exporter": "python",
   "pygments_lexer": "ipython3",
   "version": "3.6.9"
  }
 },
 "nbformat": 4,
 "nbformat_minor": 2
}
